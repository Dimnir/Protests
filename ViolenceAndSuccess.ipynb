{
 "cells": [
  {
   "cell_type": "markdown",
   "metadata": {},
   "source": [
    "### See whether violence contributes to the success rate of protests\n",
    "\n",
    "By filtering the data and creating 2 dataframes, one for protests which failed and one for those which reached final goal,\n",
    "\n",
    "we can see the success rate of each group\n"
   ]
  },
  {
   "cell_type": "code",
   "execution_count": 1,
   "metadata": {},
   "outputs": [],
   "source": [
    "%matplotlib inline\n",
    "import pandas as pd\n",
    "import numpy as np\n",
    "from pylab import rcParams\n",
    "import seaborn as sns\n",
    "from matplotlib import pyplot as plt\n",
    "from matplotlib.ticker import PercentFormatter"
   ]
  },
  {
   "cell_type": "code",
   "execution_count": 2,
   "metadata": {},
   "outputs": [
    {
     "data": {
      "text/html": [
       "<div>\n",
       "<style scoped>\n",
       "    .dataframe tbody tr th:only-of-type {\n",
       "        vertical-align: middle;\n",
       "    }\n",
       "\n",
       "    .dataframe tbody tr th {\n",
       "        vertical-align: top;\n",
       "    }\n",
       "\n",
       "    .dataframe thead th {\n",
       "        text-align: right;\n",
       "    }\n",
       "</style>\n",
       "<table border=\"1\" class=\"dataframe\">\n",
       "  <thead>\n",
       "    <tr style=\"text-align: right;\">\n",
       "      <th></th>\n",
       "      <th>camp_name</th>\n",
       "      <th>id</th>\n",
       "      <th>year</th>\n",
       "      <th>campyearid</th>\n",
       "      <th>location</th>\n",
       "      <th>target</th>\n",
       "      <th>loc_iso</th>\n",
       "      <th>loc_cow</th>\n",
       "      <th>loc_vdem</th>\n",
       "      <th>territory</th>\n",
       "      <th>...</th>\n",
       "      <th>reliability</th>\n",
       "      <th>coding_notes</th>\n",
       "      <th>ra_initials</th>\n",
       "      <th>tccode</th>\n",
       "      <th>lccode</th>\n",
       "      <th>start_date_obsolete</th>\n",
       "      <th>end_date_obsolete</th>\n",
       "      <th>success</th>\n",
       "      <th>progress</th>\n",
       "      <th>outcomes_refs</th>\n",
       "    </tr>\n",
       "  </thead>\n",
       "  <tbody>\n",
       "    <tr>\n",
       "      <th>0</th>\n",
       "      <td>Active Forces</td>\n",
       "      <td>1</td>\n",
       "      <td>1991</td>\n",
       "      <td>1_1991</td>\n",
       "      <td>Madagascar</td>\n",
       "      <td>Didier Radsiraka</td>\n",
       "      <td>450.0</td>\n",
       "      <td>580.0</td>\n",
       "      <td>125.0</td>\n",
       "      <td>NaN</td>\n",
       "      <td>...</td>\n",
       "      <td>2.0</td>\n",
       "      <td>http://www.iss.org.za/pubs/papers/89/Paper89.h...</td>\n",
       "      <td>NaN</td>\n",
       "      <td>580.0</td>\n",
       "      <td>580.0</td>\n",
       "      <td>5/1/1991</td>\n",
       "      <td>2/10/1993</td>\n",
       "      <td>0</td>\n",
       "      <td>3</td>\n",
       "      <td>Gow 1997</td>\n",
       "    </tr>\n",
       "    <tr>\n",
       "      <th>1</th>\n",
       "      <td>Active Forces</td>\n",
       "      <td>1</td>\n",
       "      <td>1992</td>\n",
       "      <td>1_1992</td>\n",
       "      <td>Madagascar</td>\n",
       "      <td>Didier Radsiraka</td>\n",
       "      <td>450.0</td>\n",
       "      <td>580.0</td>\n",
       "      <td>125.0</td>\n",
       "      <td>NaN</td>\n",
       "      <td>...</td>\n",
       "      <td>2.0</td>\n",
       "      <td>Reuters lba0000020011123dobp03sm6 ;  ;</td>\n",
       "      <td>NaN</td>\n",
       "      <td>580.0</td>\n",
       "      <td>580.0</td>\n",
       "      <td>5/1/1991</td>\n",
       "      <td>2/10/1993</td>\n",
       "      <td>0</td>\n",
       "      <td>3</td>\n",
       "      <td>Gow 1997</td>\n",
       "    </tr>\n",
       "    <tr>\n",
       "      <th>2</th>\n",
       "      <td>Active Forces</td>\n",
       "      <td>1</td>\n",
       "      <td>1993</td>\n",
       "      <td>1_1993</td>\n",
       "      <td>Madagascar</td>\n",
       "      <td>Didier Radsiraka</td>\n",
       "      <td>450.0</td>\n",
       "      <td>580.0</td>\n",
       "      <td>125.0</td>\n",
       "      <td>NaN</td>\n",
       "      <td>...</td>\n",
       "      <td>2.0</td>\n",
       "      <td>Reuters lba0000020011120dp6o06zif ;  ;</td>\n",
       "      <td>NaN</td>\n",
       "      <td>580.0</td>\n",
       "      <td>580.0</td>\n",
       "      <td>5/1/1991</td>\n",
       "      <td>2/10/1993</td>\n",
       "      <td>1</td>\n",
       "      <td>4</td>\n",
       "      <td>NaN</td>\n",
       "    </tr>\n",
       "    <tr>\n",
       "      <th>3</th>\n",
       "      <td>Afar insurgency</td>\n",
       "      <td>2</td>\n",
       "      <td>1991</td>\n",
       "      <td>2_1991</td>\n",
       "      <td>Djibouti</td>\n",
       "      <td>Djibouti regime</td>\n",
       "      <td>262.0</td>\n",
       "      <td>522.0</td>\n",
       "      <td>113.0</td>\n",
       "      <td>NaN</td>\n",
       "      <td>...</td>\n",
       "      <td>3.0</td>\n",
       "      <td>; UCDP provides extensive coverage of the cam...</td>\n",
       "      <td>NaN</td>\n",
       "      <td>522.0</td>\n",
       "      <td>522.0</td>\n",
       "      <td>11/12/1991</td>\n",
       "      <td>26/12/1994</td>\n",
       "      <td>0</td>\n",
       "      <td>1</td>\n",
       "      <td>FRUD was able to take over large areas of the ...</td>\n",
       "    </tr>\n",
       "    <tr>\n",
       "      <th>4</th>\n",
       "      <td>Afar insurgency</td>\n",
       "      <td>2</td>\n",
       "      <td>1992</td>\n",
       "      <td>2_1992</td>\n",
       "      <td>Djibouti</td>\n",
       "      <td>Djibouti regime</td>\n",
       "      <td>262.0</td>\n",
       "      <td>522.0</td>\n",
       "      <td>113.0</td>\n",
       "      <td>NaN</td>\n",
       "      <td>...</td>\n",
       "      <td>3.0</td>\n",
       "      <td>; UCDP provides extensive coverage of the cam...</td>\n",
       "      <td>NaN</td>\n",
       "      <td>522.0</td>\n",
       "      <td>522.0</td>\n",
       "      <td>11/12/1991</td>\n",
       "      <td>26/12/1994</td>\n",
       "      <td>0</td>\n",
       "      <td>2</td>\n",
       "      <td>DJIBOUTI Human Rights Practices, 1992: Departm...</td>\n",
       "    </tr>\n",
       "  </tbody>\n",
       "</table>\n",
       "<p>5 rows × 142 columns</p>\n",
       "</div>"
      ],
      "text/plain": [
       "         camp_name  id  year campyearid    location            target  \\\n",
       "0    Active Forces   1  1991     1_1991  Madagascar  Didier Radsiraka   \n",
       "1    Active Forces   1  1992     1_1992  Madagascar  Didier Radsiraka   \n",
       "2    Active Forces   1  1993     1_1993  Madagascar  Didier Radsiraka   \n",
       "3  Afar insurgency   2  1991     2_1991    Djibouti   Djibouti regime   \n",
       "4  Afar insurgency   2  1992     2_1992    Djibouti   Djibouti regime   \n",
       "\n",
       "   loc_iso  loc_cow  loc_vdem territory  ...  reliability  \\\n",
       "0    450.0    580.0     125.0       NaN  ...          2.0   \n",
       "1    450.0    580.0     125.0       NaN  ...          2.0   \n",
       "2    450.0    580.0     125.0       NaN  ...          2.0   \n",
       "3    262.0    522.0     113.0       NaN  ...          3.0   \n",
       "4    262.0    522.0     113.0       NaN  ...          3.0   \n",
       "\n",
       "                                        coding_notes  ra_initials tccode  \\\n",
       "0  http://www.iss.org.za/pubs/papers/89/Paper89.h...          NaN  580.0   \n",
       "1            Reuters lba0000020011123dobp03sm6 ;  ;           NaN  580.0   \n",
       "2            Reuters lba0000020011120dp6o06zif ;  ;           NaN  580.0   \n",
       "3   ; UCDP provides extensive coverage of the cam...          NaN  522.0   \n",
       "4   ; UCDP provides extensive coverage of the cam...          NaN  522.0   \n",
       "\n",
       "   lccode  start_date_obsolete  end_date_obsolete  success  progress  \\\n",
       "0   580.0             5/1/1991          2/10/1993        0         3   \n",
       "1   580.0             5/1/1991          2/10/1993        0         3   \n",
       "2   580.0             5/1/1991          2/10/1993        1         4   \n",
       "3   522.0           11/12/1991         26/12/1994        0         1   \n",
       "4   522.0           11/12/1991         26/12/1994        0         2   \n",
       "\n",
       "                                       outcomes_refs  \n",
       "0                                           Gow 1997  \n",
       "1                                           Gow 1997  \n",
       "2                                                NaN  \n",
       "3  FRUD was able to take over large areas of the ...  \n",
       "4  DJIBOUTI Human Rights Practices, 1992: Departm...  \n",
       "\n",
       "[5 rows x 142 columns]"
      ]
     },
     "execution_count": 2,
     "metadata": {},
     "output_type": "execute_result"
    }
   ],
   "source": [
    "# 'NAVCO'\n",
    "data_path = \Protests/datasets/NAVCO.xls\"\n",
    "data = pd.read_excel(data_path)\n",
    "data.head()"
   ]
  },
  {
   "cell_type": "markdown",
   "metadata": {},
   "source": [
    "#### features needed:\n",
    "\n",
    "- `camp_name` - name\n",
    "- `year` - year\n",
    "- `prim_meth` - violence (0=primarily violent campaign, 1=primarily nonviolent campaign)\n",
    "- `success` - success\n",
    "\n"
   ]
  },
  {
   "cell_type": "code",
   "execution_count": 3,
   "metadata": {},
   "outputs": [],
   "source": [
    "# filtering df\n",
    "camp = data.copy() # *call it 'data2' to keep original dataframe\n",
    "camp = camp[camp.reliability != 1] # delete non reliable rows\n",
    "camp = camp.dropna(subset=['prim_meth','success']) # drops rows with NaNs in {violence,success} features\n",
    "\n",
    "# camp violence feature\n",
    "camp_vil = camp.copy() # creates dataframe, to store each campaing in a row\n",
    "camp_vil = camp_vil.sort_values(by='prim_meth', ascending=True) # [ prim_meth == 0 ] rows go up\n",
    "camp_vil = camp_vil.drop_duplicates(subset=['camp_name'], keep='first') # keeps the rows with camps which succeeded first\n",
    "\n",
    "# camp success feature\n",
    "camp_suc = camp.copy() # creates dataframe, to store each campaing in a row\n",
    "camp_suc = camp_suc.sort_values(by='success', ascending=False) # [ success == 1 ] rows go up\n",
    "camp_suc = camp_suc.drop_duplicates(subset=['camp_name'], keep='first') # keeps the rows with camps which succeeded first\n",
    "\n",
    "camp = pd.merge(camp_suc, camp_vil) # merge to get updated df\n",
    "\n",
    "camp = camp.loc[(camp['prim_meth'] >= 0) & (camp['prim_meth'] <= 1) & (camp['success'] >= 0 ) & (camp['success'] <=1)]\n",
    "# filter rows to get : (prim_meth => 1/0) & (success => 1/0)\n",
    "\n",
    "camp = camp.loc[:,['camp_name','year','prim_meth','success']] # select only few features"
   ]
  },
  {
   "cell_type": "code",
   "execution_count": 4,
   "metadata": {},
   "outputs": [
    {
     "data": {
      "text/html": [
       "<div>\n",
       "<style scoped>\n",
       "    .dataframe tbody tr th:only-of-type {\n",
       "        vertical-align: middle;\n",
       "    }\n",
       "\n",
       "    .dataframe tbody tr th {\n",
       "        vertical-align: top;\n",
       "    }\n",
       "\n",
       "    .dataframe thead th {\n",
       "        text-align: right;\n",
       "    }\n",
       "</style>\n",
       "<table border=\"1\" class=\"dataframe\">\n",
       "  <thead>\n",
       "    <tr style=\"text-align: right;\">\n",
       "      <th></th>\n",
       "      <th>camp_name</th>\n",
       "      <th>year</th>\n",
       "      <th>prim_meth</th>\n",
       "      <th>success</th>\n",
       "    </tr>\n",
       "  </thead>\n",
       "  <tbody>\n",
       "    <tr>\n",
       "      <th>101</th>\n",
       "      <td>Euromaiden</td>\n",
       "      <td>2013</td>\n",
       "      <td>1</td>\n",
       "      <td>0</td>\n",
       "    </tr>\n",
       "    <tr>\n",
       "      <th>112</th>\n",
       "      <td>Southern Yemen Secessionist Movement</td>\n",
       "      <td>2013</td>\n",
       "      <td>1</td>\n",
       "      <td>0</td>\n",
       "    </tr>\n",
       "    <tr>\n",
       "      <th>86</th>\n",
       "      <td>Civil Movement for Democracy</td>\n",
       "      <td>2013</td>\n",
       "      <td>1</td>\n",
       "      <td>0</td>\n",
       "    </tr>\n",
       "    <tr>\n",
       "      <th>87</th>\n",
       "      <td>Dance With Me Campaign</td>\n",
       "      <td>2013</td>\n",
       "      <td>1</td>\n",
       "      <td>0</td>\n",
       "    </tr>\n",
       "    <tr>\n",
       "      <th>37</th>\n",
       "      <td>Anti-Morsi Protests</td>\n",
       "      <td>2013</td>\n",
       "      <td>1</td>\n",
       "      <td>1</td>\n",
       "    </tr>\n",
       "    <tr>\n",
       "      <th>100</th>\n",
       "      <td>Anti-Islamist Government Protests</td>\n",
       "      <td>2013</td>\n",
       "      <td>1</td>\n",
       "      <td>0</td>\n",
       "    </tr>\n",
       "    <tr>\n",
       "      <th>103</th>\n",
       "      <td>South Sudanese Civil War</td>\n",
       "      <td>2013</td>\n",
       "      <td>0</td>\n",
       "      <td>0</td>\n",
       "    </tr>\n",
       "    <tr>\n",
       "      <th>104</th>\n",
       "      <td>Sinai Insurgency</td>\n",
       "      <td>2013</td>\n",
       "      <td>0</td>\n",
       "      <td>0</td>\n",
       "    </tr>\n",
       "    <tr>\n",
       "      <th>82</th>\n",
       "      <td>Pro-Morsi Protests</td>\n",
       "      <td>2013</td>\n",
       "      <td>1</td>\n",
       "      <td>0</td>\n",
       "    </tr>\n",
       "    <tr>\n",
       "      <th>150</th>\n",
       "      <td>Kashmiri Muslim separatists</td>\n",
       "      <td>2013</td>\n",
       "      <td>0</td>\n",
       "      <td>0</td>\n",
       "    </tr>\n",
       "    <tr>\n",
       "      <th>144</th>\n",
       "      <td>Anti-balaka</td>\n",
       "      <td>2013</td>\n",
       "      <td>0</td>\n",
       "      <td>0</td>\n",
       "    </tr>\n",
       "    <tr>\n",
       "      <th>85</th>\n",
       "      <td>Nasheed Supporters</td>\n",
       "      <td>2012</td>\n",
       "      <td>1</td>\n",
       "      <td>0</td>\n",
       "    </tr>\n",
       "    <tr>\n",
       "      <th>14</th>\n",
       "      <td>Anti-Mutharika</td>\n",
       "      <td>2012</td>\n",
       "      <td>1</td>\n",
       "      <td>1</td>\n",
       "    </tr>\n",
       "    <tr>\n",
       "      <th>96</th>\n",
       "      <td>Let's Save Togo (Anti-Gnassingbe)</td>\n",
       "      <td>2012</td>\n",
       "      <td>1</td>\n",
       "      <td>0</td>\n",
       "    </tr>\n",
       "    <tr>\n",
       "      <th>98</th>\n",
       "      <td>Northern Mali Conflict</td>\n",
       "      <td>2012</td>\n",
       "      <td>0</td>\n",
       "      <td>0</td>\n",
       "    </tr>\n",
       "    <tr>\n",
       "      <th>131</th>\n",
       "      <td>Myanmar Territorial Secession Campaign</td>\n",
       "      <td>2011</td>\n",
       "      <td>0</td>\n",
       "      <td>0</td>\n",
       "    </tr>\n",
       "    <tr>\n",
       "      <th>102</th>\n",
       "      <td>Anti-Abdelaziz Bouteflika Campaign</td>\n",
       "      <td>2011</td>\n",
       "      <td>1</td>\n",
       "      <td>0</td>\n",
       "    </tr>\n",
       "    <tr>\n",
       "      <th>91</th>\n",
       "      <td>Swaziland Anti-Monarchy Protests</td>\n",
       "      <td>2011</td>\n",
       "      <td>1</td>\n",
       "      <td>0</td>\n",
       "    </tr>\n",
       "    <tr>\n",
       "      <th>5</th>\n",
       "      <td>Pro-Ouattara Campaign</td>\n",
       "      <td>2011</td>\n",
       "      <td>1</td>\n",
       "      <td>1</td>\n",
       "    </tr>\n",
       "    <tr>\n",
       "      <th>25</th>\n",
       "      <td>Libyan Civil War</td>\n",
       "      <td>2011</td>\n",
       "      <td>0</td>\n",
       "      <td>1</td>\n",
       "    </tr>\n",
       "  </tbody>\n",
       "</table>\n",
       "</div>"
      ],
      "text/plain": [
       "                                  camp_name  year  prim_meth  success\n",
       "101                              Euromaiden  2013          1        0\n",
       "112    Southern Yemen Secessionist Movement  2013          1        0\n",
       "86             Civil Movement for Democracy  2013          1        0\n",
       "87                   Dance With Me Campaign  2013          1        0\n",
       "37                      Anti-Morsi Protests  2013          1        1\n",
       "100       Anti-Islamist Government Protests  2013          1        0\n",
       "103                South Sudanese Civil War  2013          0        0\n",
       "104                        Sinai Insurgency  2013          0        0\n",
       "82                       Pro-Morsi Protests  2013          1        0\n",
       "150             Kashmiri Muslim separatists  2013          0        0\n",
       "144                             Anti-balaka  2013          0        0\n",
       "85                       Nasheed Supporters  2012          1        0\n",
       "14                           Anti-Mutharika  2012          1        1\n",
       "96        Let's Save Togo (Anti-Gnassingbe)  2012          1        0\n",
       "98                   Northern Mali Conflict  2012          0        0\n",
       "131  Myanmar Territorial Secession Campaign  2011          0        0\n",
       "102      Anti-Abdelaziz Bouteflika Campaign  2011          1        0\n",
       "91         Swaziland Anti-Monarchy Protests  2011          1        0\n",
       "5                     Pro-Ouattara Campaign  2011          1        1\n",
       "25                         Libyan Civil War  2011          0        1"
      ]
     },
     "execution_count": 4,
     "metadata": {},
     "output_type": "execute_result"
    }
   ],
   "source": [
    "camp.sort_values(by='year', ascending=False).iloc[:20] # 20 protests sorted by year"
   ]
  },
  {
   "cell_type": "markdown",
   "metadata": {},
   "source": [
    "#### Calculate % of total for the 2 groups:"
   ]
  },
  {
   "cell_type": "markdown",
   "metadata": {},
   "source": [
    "example: (`successfull violent` / `total successfull`) * `100`\n",
    "\n",
    " - for both successful and failed protests calculate:\n",
    "     - violent\n",
    "     - non-violent\n",
    "     \n",
    "*100 to show in percentage"
   ]
  },
  {
   "cell_type": "code",
   "execution_count": 5,
   "metadata": {},
   "outputs": [],
   "source": [
    "# seperate the dataframe into 2 main cases:\n",
    "camp_succ = camp[camp.success == 1] # success - protests which ahieved success\n",
    "camp_fail = camp[camp.success == 0] # fail - protests which ended in failure\n",
    "\n",
    "# calculate success rates for violent/non violent campaigns\n",
    "viol_suc = len(camp_succ.loc[camp_succ['prim_meth'] == 0]) # ammount of successful campaigns which were violent  \n",
    "viol_fail = len(camp_fail.loc[camp_fail['prim_meth'] == 0]) # ammount of failed campaigns which were violent\n",
    "\n",
    "noviol_suc = len(camp_succ.loc[camp_succ['prim_meth'] == 1]) # ammount of successful campaigns which were non-violent\n",
    "noviol_fail = len(camp_fail.loc[camp_fail['prim_meth'] == 1]) # ammount of failed campaigns which were non-violent\n",
    "\n",
    "# total num of camps\n",
    "suc_camps_sum = viol_suc +  noviol_suc # total ammount of successful campaigns\n",
    "fail_camps_sum = viol_fail + noviol_fail # total ammount of failed campaigns\n",
    "\n",
    "suc_viol_rate = (viol_suc / suc_camps_sum) * 100 # successful: violent campaigns \n",
    "suc_nviol_rate = (noviol_suc / suc_camps_sum) * 100 # successful: non-violent campaigns \n",
    "fail_viol_rate = (viol_fail / fail_camps_sum) * 100 # failed: violent campaigns\n",
    "fail_nviol_rate = (noviol_fail / fail_camps_sum) * 100 # failed: non-violent campaigns"
   ]
  },
  {
   "cell_type": "markdown",
   "metadata": {},
   "source": [
    "now visualize both of the groups; protests which failed & protests which achieved final goal, with violent / non violent success rate  \n",
    "### success rates of violent vs non violent protests "
   ]
  },
  {
   "cell_type": "code",
   "execution_count": 6,
   "metadata": {},
   "outputs": [
    {
     "data": {
      "image/png": "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\n",
      "text/plain": [
       "<Figure size 432x288 with 2 Axes>"
      ]
     },
     "metadata": {
      "needs_background": "light"
     },
     "output_type": "display_data"
    }
   ],
   "source": [
    "labels = ['Violent','Non violent']\n",
    "yticks = [0,10,20,30,40,50,60,70]\n",
    "ylabels = ['0%','10%','20%','30%','40%','50%','60%','70%']\n",
    "\n",
    "plt.figure() \n",
    "plt.subplot(1, 3, 1) # successful protests\n",
    "plt.bar(labels,[suc_viol_rate,suc_nviol_rate], color=['r','g']) # violent = red, nonviolent = green\n",
    "plt.title('Successful Protests')\n",
    "plt.yticks(yticks,ylabels)\n",
    "\n",
    "plt.subplot(1,3,3) # failed protests\n",
    "plt.bar(labels,[fail_viol_rate,fail_nviol_rate],color=['r','g'])\n",
    "plt.title('Failed Protests')\n",
    "plt.yticks(yticks,ylabels)\n",
    "\n",
    "plt.show()"
   ]
  },
  {
   "cell_type": "markdown",
   "metadata": {},
   "source": [
    "- **most of the successful protests were non violent**\n",
    "- **most of the failed protests were violent**\n",
    "\n",
    "So, according to the data, for a protest to be successful it needs to be **non violent**, non violent protests are more than twice as likely to achieve their goals as violent protests.\n",
    "\n",
    "---"
   ]
  },
  {
   "cell_type": "markdown",
   "metadata": {},
   "source": [
    "### Show the success rate throughout the years\n",
    "\n",
    "By creating a dataframe in which each protest is in one row, then sorting the protests by:\n",
    "- violent\n",
    "- non violent"
   ]
  },
  {
   "cell_type": "markdown",
   "metadata": {},
   "source": [
    "#### Plot each year and its success rate for violent / non violent protests"
   ]
  },
  {
   "cell_type": "code",
   "execution_count": 7,
   "metadata": {
    "scrolled": true
   },
   "outputs": [
    {
     "data": {
      "image/png": "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\n",
      "text/plain": [
       "<Figure size 432x288 with 1 Axes>"
      ]
     },
     "metadata": {
      "needs_background": "light"
     },
     "output_type": "display_data"
    }
   ],
   "source": [
    "viol = camp[camp.prim_meth == 0] # dataframe for violent campaings\n",
    "noviol = camp[camp.prim_meth == 1] # dataframe for non-violent campaings\n",
    "\n",
    "# plot success rate for each year\n",
    "\n",
    "# group the non-violent campaigns by year, take each years success mean, [::x] = x year jumps\n",
    "noviol.groupby('year').success.mean()[::5].plot(label='Non violent',c='g')\n",
    "viol.groupby('year').success.mean()[::5].plot(label='Violent',c='r') # same for the violent campaign\n",
    "\n",
    "plt.xlim(1970,2007) # limit x axis\n",
    "plt.yticks([]) # hide y axis\n",
    "plt.ylabel('Success rate') # label y axis\n",
    "plt.xlabel('Calendar year') # label x axis\n",
    "plt.ylim(-1,2) # y limit - for cosmetic purposes\n",
    "plt.legend(frameon=0)\n",
    "plt.style.use('default')\n",
    "plt.title('Protests success rate, 1970 - 2000+')\n",
    "plt.show()"
   ]
  },
  {
   "cell_type": "markdown",
   "metadata": {},
   "source": [
    "We can see that non violent protests have higher success rate in the last years. \n",
    "\n",
    "The graph shows that although the non-violent protests success rate is going down, it is still higher than the violent campaigns success rate.\n",
    "\n",
    "#### looks like a protest has more chances to achieve its final goal by being a non violent protest.\n",
    "\n",
    "---"
   ]
  },
  {
   "cell_type": "markdown",
   "metadata": {},
   "source": [
    "### Check if theres a connection between size of protest & violence\n",
    "Lets take a look at some of the largest protests"
   ]
  },
  {
   "cell_type": "code",
   "execution_count": 8,
   "metadata": {},
   "outputs": [
    {
     "data": {
      "text/html": [
       "<div>\n",
       "<style scoped>\n",
       "    .dataframe tbody tr th:only-of-type {\n",
       "        vertical-align: middle;\n",
       "    }\n",
       "\n",
       "    .dataframe tbody tr th {\n",
       "        vertical-align: top;\n",
       "    }\n",
       "\n",
       "    .dataframe thead th {\n",
       "        text-align: right;\n",
       "    }\n",
       "</style>\n",
       "<table border=\"1\" class=\"dataframe\">\n",
       "  <thead>\n",
       "    <tr style=\"text-align: right;\">\n",
       "      <th></th>\n",
       "      <th>camp_name</th>\n",
       "      <th>location</th>\n",
       "      <th>total_part</th>\n",
       "      <th>success</th>\n",
       "      <th>prim_meth</th>\n",
       "      <th>year</th>\n",
       "    </tr>\n",
       "  </thead>\n",
       "  <tbody>\n",
       "    <tr>\n",
       "      <th>232</th>\n",
       "      <td>Cultural Revolution Red Guards</td>\n",
       "      <td>China</td>\n",
       "      <td>22000000</td>\n",
       "      <td>0</td>\n",
       "      <td>0</td>\n",
       "      <td>1967</td>\n",
       "    </tr>\n",
       "    <tr>\n",
       "      <th>1485</th>\n",
       "      <td>Solidarity</td>\n",
       "      <td>Poland</td>\n",
       "      <td>10000000</td>\n",
       "      <td>0</td>\n",
       "      <td>1</td>\n",
       "      <td>1980</td>\n",
       "    </tr>\n",
       "    <tr>\n",
       "      <th>112</th>\n",
       "      <td>Argentina pro-democracy movement</td>\n",
       "      <td>Argentina</td>\n",
       "      <td>9000000</td>\n",
       "      <td>1</td>\n",
       "      <td>1</td>\n",
       "      <td>1983</td>\n",
       "    </tr>\n",
       "  </tbody>\n",
       "</table>\n",
       "</div>"
      ],
      "text/plain": [
       "                             camp_name   location  total_part  success  \\\n",
       "232     Cultural Revolution Red Guards      China    22000000        0   \n",
       "1485                        Solidarity     Poland    10000000        0   \n",
       "112   Argentina pro-democracy movement  Argentina     9000000        1   \n",
       "\n",
       "      prim_meth  year  \n",
       "232           0  1967  \n",
       "1485          1  1980  \n",
       "112           1  1983  "
      ]
     },
     "execution_count": 8,
     "metadata": {},
     "output_type": "execute_result"
    }
   ],
   "source": [
    "part = data.sort_values(by='total_part', ascending=False) # sort by most_participants\n",
    "part = part.drop_duplicates(subset=['camp_name'], keep='first') # each camp gets a row\n",
    "top_largest = part.iloc[:25][['camp_name','location','total_part','success','prim_meth','year',]] # 25 of the largest campaigns\n",
    "top_largest.iloc[:3] "
   ]
  },
  {
   "cell_type": "code",
   "execution_count": 9,
   "metadata": {},
   "outputs": [
    {
     "name": "stdout",
     "output_type": "stream",
     "text": [
      "violent protests:  3 \n",
      "nonviolent protests:  22\n"
     ]
    }
   ],
   "source": [
    "part = part.loc[:,['camp_name','total_part','prim_meth','success','year']] # all rows, few features\n",
    "part = part.loc[(part['total_part'] >= 0)] # delete unknowns\n",
    "\n",
    "viol_c = len(top_largest[top_largest.prim_meth == 0]) # ammount of violent campaigns from the 20 largest\n",
    "non_viol_c = len(top_largest[top_largest.prim_meth == 1]) # ammount of non violent campaigns from the 20 largest\n",
    "\n",
    "print(\"violent protests: \" , viol_c ,\"\\nnonviolent protests: \", non_viol_c )"
   ]
  },
  {
   "cell_type": "markdown",
   "metadata": {},
   "source": [
    "From the top 25 largest protests:\n",
    "- 22 were nonviolent\n",
    "- 3 were violent."
   ]
  },
  {
   "cell_type": "markdown",
   "metadata": {},
   "source": [
    "\n",
    "Average participants ammount of a violent / nonviolent protest"
   ]
  },
  {
   "cell_type": "code",
   "execution_count": 10,
   "metadata": {},
   "outputs": [
    {
     "name": "stdout",
     "output_type": "stream",
     "text": [
      "violent protests average participants:  188183 \n",
      "non-violent protests average participants: 575066\n"
     ]
    }
   ],
   "source": [
    "viol = part[part.prim_meth == 0] # update the violent camp df\n",
    "noviol = part[part.prim_meth == 1] # update the non violent camp df\n",
    "\n",
    "noviol_suc_avrg = int(noviol.total_part.mean()) # cast it to int, index=1 is for success == 1\n",
    "viol_suc_avrg = int(viol.total_part.mean()) # same\n",
    "\n",
    "# noviol_suc_avrg = int(noviol.groupby('success').total_part.mean()[1]) # cast it to int, index=1 is for success == 1\n",
    "# viol_suc_avrg = int(viol.groupby('success').total_part.mean()[1]) # same\n",
    "\n",
    "print(\"violent protests average participants: \",viol_suc_avrg,\n",
    "      \"\\nnon-violent protests average participants:\",noviol_suc_avrg)"
   ]
  },
  {
   "cell_type": "markdown",
   "metadata": {},
   "source": [
    "**The non violent protests attracted around 3 times as many participants (575,000) as the average violent protest (188,000).**\n",
    "\n",
    "Maybe the lack of violence in protests is attracting more participants to join the protest?"
   ]
  },
  {
   "cell_type": "markdown",
   "metadata": {},
   "source": [
    "---"
   ]
  },
  {
   "cell_type": "markdown",
   "metadata": {},
   "source": [
    "#### Check successful protests avarage use of violence\n",
    "feature called `violence` will be 1 for violent protests and 0 for non violent protests"
   ]
  },
  {
   "cell_type": "code",
   "execution_count": 11,
   "metadata": {},
   "outputs": [
    {
     "data": {
      "text/plain": [
       "0.38095238095238093"
      ]
     },
     "execution_count": 11,
     "metadata": {},
     "output_type": "execute_result"
    }
   ],
   "source": [
    "# using the bigger df to get more camps\n",
    "avrg_succ = data.copy()\n",
    "avrg_succ = avrg_succ.loc[(avrg_succ['success'] == 1)]\n",
    "\n",
    "avrg_succ['prim_meth'] = avrg_succ['prim_meth'].map({0 : 1, 1 : 0}) # 0=>1 & 1=>0\n",
    "avrg_succ = avrg_succ.rename(columns={\"prim_meth\": \"violence\"}) # violent get 1 , nonviolent get 0\n",
    "\n",
    "avrg_succ.violence.mean()"
   ]
  },
  {
   "cell_type": "markdown",
   "metadata": {},
   "source": [
    "#### Now lets see the total average violence in all protests\n",
    "using `violence` feature, counting both successful and failed protests"
   ]
  },
  {
   "cell_type": "code",
   "execution_count": 12,
   "metadata": {},
   "outputs": [
    {
     "data": {
      "text/plain": [
       "0.8122929701877071"
      ]
     },
     "execution_count": 12,
     "metadata": {},
     "output_type": "execute_result"
    }
   ],
   "source": [
    "avrg_viol = data.copy() # doing the same for total avrage violence (success+failed)\n",
    "# update prim_meth feature to violence feature\n",
    "avrg_viol['prim_meth'] = avrg_viol['prim_meth'].map({0 : 1, 1 : 0}) # 0=>1 & 1=>0\n",
    "avrg_viol = avrg_viol.rename(columns={\"prim_meth\": \"violence\"}) # violent get 1 , nonviolent get 0\n",
    "avrg_viol.violence.mean()"
   ]
  },
  {
   "cell_type": "markdown",
   "metadata": {},
   "source": [
    "total average use of violence is higher than the successful protests use of violence average.\n",
    "\n",
    "Successful protests use less violence."
   ]
  },
  {
   "cell_type": "markdown",
   "metadata": {},
   "source": [
    "#### Plot changes in violence throughout the year\n",
    "\n",
    "create a plot which shows changes in violence in protests throughout the years\n",
    "\n",
    "group protests by year, for each year check violence mean"
   ]
  },
  {
   "cell_type": "code",
   "execution_count": 13,
   "metadata": {},
   "outputs": [
    {
     "data": {
      "image/png": "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\n",
      "text/plain": [
       "<Figure size 640x480 with 1 Axes>"
      ]
     },
     "metadata": {},
     "output_type": "display_data"
    }
   ],
   "source": [
    "avrg_viol.groupby('year').violence.mean()[::5].plot() # group the protests by year and show violence mean [::x]=every x years \n",
    "plt.ylim(0,1)\n",
    "plt.yticks([0,1],['non violent','violent']) # y labels\n",
    "plt.xlim(1945,2010)\n",
    "plt.xlabel('Calendar Year')\n",
    "plt.title('Violence in protests 1945 - 2010')\n",
    "plt.show()"
   ]
  },
  {
   "cell_type": "markdown",
   "metadata": {},
   "source": [
    "- Although the average protest will most likely be a violent one, non-violent protests are more likely to succeed."
   ]
  }
 ],
 "metadata": {
  "kernelspec": {
   "display_name": "Python 3",
   "language": "python",
   "name": "python3"
  },
  "language_info": {
   "codemirror_mode": {
    "name": "ipython",
    "version": 3
   },
   "file_extension": ".py",
   "mimetype": "text/x-python",
   "name": "python",
   "nbconvert_exporter": "python",
   "pygments_lexer": "ipython3",
   "version": "3.7.6"
  }
 },
 "nbformat": 4,
 "nbformat_minor": 4
}
