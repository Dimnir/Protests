{
 "cells": [
  {
   "cell_type": "markdown",
   "metadata": {},
   "source": [
    "### Simple model to predict a successful protest\n",
    "\n",
    "create a model which predict if a protest was a successful protest or failed protest\n",
    "\n",
    "gets 'size greater than 3% of pop' and 'violent / non violent' for each protest as its input, and predicts if it was a successful protest or a failed one."
   ]
  },
  {
   "cell_type": "code",
   "execution_count": 1,
   "metadata": {},
   "outputs": [],
   "source": [
    "%matplotlib inline\n",
    "import pandas as pd\n",
    "import numpy as np\n",
    "from pylab import rcParams\n",
    "import seaborn as sns\n",
    "from matplotlib import pyplot as plt\n",
    "from matplotlib.ticker import PercentFormatter\n",
    "from matplotlib.colors import ListedColormap\n",
    "from sklearn.model_selection import train_test_split\n",
    "from sklearn.linear_model import LogisticRegression\n",
    "from sklearn.metrics import confusion_matrix\n",
    "from sklearn.metrics import accuracy_score\n",
    "from sklearn.preprocessing import StandardScaler"
   ]
  },
  {
   "cell_type": "markdown",
   "metadata": {},
   "source": [
    "#### Datasets"
   ]
  },
  {
   "cell_type": "code",
   "execution_count": 2,
   "metadata": {},
   "outputs": [],
   "source": [
    "# 'NAVCO'\n",
    "data_path = \"datasets/NAVCO.xls\"\n",
    "data = pd.read_excel(data_path)\n",
    "\n",
    "# 'World Population 1960-2018'\n",
    "world_pop_path = \"datasets/population.csv\"\n",
    "world_pop = pd.read_csv(world_pop_path)"
   ]
  },
  {
   "cell_type": "code",
   "execution_count": 3,
   "metadata": {},
   "outputs": [],
   "source": [
    "world_pop = world_pop.rename(columns={'Year': 'year', 'Country Name': 'location'}) # rename columns for easier merge\n",
    "# create 'prot' to keep original dataframe\n",
    "data = pd.merge(data, world_pop) # merge the two datasets to get population per country for each year"
   ]
  },
  {
   "cell_type": "code",
   "execution_count": 4,
   "metadata": {},
   "outputs": [
    {
     "data": {
      "text/html": [
       "<div>\n",
       "<style scoped>\n",
       "    .dataframe tbody tr th:only-of-type {\n",
       "        vertical-align: middle;\n",
       "    }\n",
       "\n",
       "    .dataframe tbody tr th {\n",
       "        vertical-align: top;\n",
       "    }\n",
       "\n",
       "    .dataframe thead th {\n",
       "        text-align: right;\n",
       "    }\n",
       "</style>\n",
       "<table border=\"1\" class=\"dataframe\">\n",
       "  <thead>\n",
       "    <tr style=\"text-align: right;\">\n",
       "      <th></th>\n",
       "      <th>camp_name</th>\n",
       "      <th>id</th>\n",
       "      <th>year</th>\n",
       "      <th>campyearid</th>\n",
       "      <th>location</th>\n",
       "      <th>target</th>\n",
       "      <th>loc_iso</th>\n",
       "      <th>loc_cow</th>\n",
       "      <th>loc_vdem</th>\n",
       "      <th>territory</th>\n",
       "      <th>...</th>\n",
       "      <th>coding_notes</th>\n",
       "      <th>ra_initials</th>\n",
       "      <th>tccode</th>\n",
       "      <th>lccode</th>\n",
       "      <th>start_date_obsolete</th>\n",
       "      <th>end_date_obsolete</th>\n",
       "      <th>success</th>\n",
       "      <th>progress</th>\n",
       "      <th>outcomes_refs</th>\n",
       "      <th>Count</th>\n",
       "    </tr>\n",
       "  </thead>\n",
       "  <tbody>\n",
       "    <tr>\n",
       "      <th>0</th>\n",
       "      <td>Active Forces</td>\n",
       "      <td>1</td>\n",
       "      <td>1991</td>\n",
       "      <td>1_1991</td>\n",
       "      <td>Madagascar</td>\n",
       "      <td>Didier Radsiraka</td>\n",
       "      <td>450.0</td>\n",
       "      <td>580.0</td>\n",
       "      <td>125.0</td>\n",
       "      <td>NaN</td>\n",
       "      <td>...</td>\n",
       "      <td>http://www.iss.org.za/pubs/papers/89/Paper89.h...</td>\n",
       "      <td>NaN</td>\n",
       "      <td>580.0</td>\n",
       "      <td>580.0</td>\n",
       "      <td>5/1/1991</td>\n",
       "      <td>2/10/1993</td>\n",
       "      <td>0</td>\n",
       "      <td>3</td>\n",
       "      <td>Gow 1997</td>\n",
       "      <td>11942819</td>\n",
       "    </tr>\n",
       "    <tr>\n",
       "      <th>1</th>\n",
       "      <td>Active Forces</td>\n",
       "      <td>1</td>\n",
       "      <td>1992</td>\n",
       "      <td>1_1992</td>\n",
       "      <td>Madagascar</td>\n",
       "      <td>Didier Radsiraka</td>\n",
       "      <td>450.0</td>\n",
       "      <td>580.0</td>\n",
       "      <td>125.0</td>\n",
       "      <td>NaN</td>\n",
       "      <td>...</td>\n",
       "      <td>Reuters lba0000020011123dobp03sm6 ;  ;</td>\n",
       "      <td>NaN</td>\n",
       "      <td>580.0</td>\n",
       "      <td>580.0</td>\n",
       "      <td>5/1/1991</td>\n",
       "      <td>2/10/1993</td>\n",
       "      <td>0</td>\n",
       "      <td>3</td>\n",
       "      <td>Gow 1997</td>\n",
       "      <td>12301336</td>\n",
       "    </tr>\n",
       "    <tr>\n",
       "      <th>2</th>\n",
       "      <td>Active Forces</td>\n",
       "      <td>1</td>\n",
       "      <td>1993</td>\n",
       "      <td>1_1993</td>\n",
       "      <td>Madagascar</td>\n",
       "      <td>Didier Radsiraka</td>\n",
       "      <td>450.0</td>\n",
       "      <td>580.0</td>\n",
       "      <td>125.0</td>\n",
       "      <td>NaN</td>\n",
       "      <td>...</td>\n",
       "      <td>Reuters lba0000020011120dp6o06zif ;  ;</td>\n",
       "      <td>NaN</td>\n",
       "      <td>580.0</td>\n",
       "      <td>580.0</td>\n",
       "      <td>5/1/1991</td>\n",
       "      <td>2/10/1993</td>\n",
       "      <td>1</td>\n",
       "      <td>4</td>\n",
       "      <td>NaN</td>\n",
       "      <td>12675460</td>\n",
       "    </tr>\n",
       "    <tr>\n",
       "      <th>3</th>\n",
       "      <td>Afar insurgency</td>\n",
       "      <td>2</td>\n",
       "      <td>1991</td>\n",
       "      <td>2_1991</td>\n",
       "      <td>Djibouti</td>\n",
       "      <td>Djibouti regime</td>\n",
       "      <td>262.0</td>\n",
       "      <td>522.0</td>\n",
       "      <td>113.0</td>\n",
       "      <td>NaN</td>\n",
       "      <td>...</td>\n",
       "      <td>; UCDP provides extensive coverage of the cam...</td>\n",
       "      <td>NaN</td>\n",
       "      <td>522.0</td>\n",
       "      <td>522.0</td>\n",
       "      <td>11/12/1991</td>\n",
       "      <td>26/12/1994</td>\n",
       "      <td>0</td>\n",
       "      <td>1</td>\n",
       "      <td>FRUD was able to take over large areas of the ...</td>\n",
       "      <td>606844</td>\n",
       "    </tr>\n",
       "    <tr>\n",
       "      <th>4</th>\n",
       "      <td>Afar insurgency</td>\n",
       "      <td>2</td>\n",
       "      <td>1992</td>\n",
       "      <td>2_1992</td>\n",
       "      <td>Djibouti</td>\n",
       "      <td>Djibouti regime</td>\n",
       "      <td>262.0</td>\n",
       "      <td>522.0</td>\n",
       "      <td>113.0</td>\n",
       "      <td>NaN</td>\n",
       "      <td>...</td>\n",
       "      <td>; UCDP provides extensive coverage of the cam...</td>\n",
       "      <td>NaN</td>\n",
       "      <td>522.0</td>\n",
       "      <td>522.0</td>\n",
       "      <td>11/12/1991</td>\n",
       "      <td>26/12/1994</td>\n",
       "      <td>0</td>\n",
       "      <td>2</td>\n",
       "      <td>DJIBOUTI Human Rights Practices, 1992: Departm...</td>\n",
       "      <td>615054</td>\n",
       "    </tr>\n",
       "  </tbody>\n",
       "</table>\n",
       "<p>5 rows × 143 columns</p>\n",
       "</div>"
      ],
      "text/plain": [
       "         camp_name  id  year campyearid    location            target  \\\n",
       "0    Active Forces   1  1991     1_1991  Madagascar  Didier Radsiraka   \n",
       "1    Active Forces   1  1992     1_1992  Madagascar  Didier Radsiraka   \n",
       "2    Active Forces   1  1993     1_1993  Madagascar  Didier Radsiraka   \n",
       "3  Afar insurgency   2  1991     2_1991    Djibouti   Djibouti regime   \n",
       "4  Afar insurgency   2  1992     2_1992    Djibouti   Djibouti regime   \n",
       "\n",
       "   loc_iso  loc_cow  loc_vdem territory  ...  \\\n",
       "0    450.0    580.0     125.0       NaN  ...   \n",
       "1    450.0    580.0     125.0       NaN  ...   \n",
       "2    450.0    580.0     125.0       NaN  ...   \n",
       "3    262.0    522.0     113.0       NaN  ...   \n",
       "4    262.0    522.0     113.0       NaN  ...   \n",
       "\n",
       "                                        coding_notes  ra_initials  tccode  \\\n",
       "0  http://www.iss.org.za/pubs/papers/89/Paper89.h...          NaN   580.0   \n",
       "1            Reuters lba0000020011123dobp03sm6 ;  ;           NaN   580.0   \n",
       "2            Reuters lba0000020011120dp6o06zif ;  ;           NaN   580.0   \n",
       "3   ; UCDP provides extensive coverage of the cam...          NaN   522.0   \n",
       "4   ; UCDP provides extensive coverage of the cam...          NaN   522.0   \n",
       "\n",
       "  lccode  start_date_obsolete  end_date_obsolete  success  progress  \\\n",
       "0  580.0             5/1/1991          2/10/1993        0         3   \n",
       "1  580.0             5/1/1991          2/10/1993        0         3   \n",
       "2  580.0             5/1/1991          2/10/1993        1         4   \n",
       "3  522.0           11/12/1991         26/12/1994        0         1   \n",
       "4  522.0           11/12/1991         26/12/1994        0         2   \n",
       "\n",
       "                                       outcomes_refs     Count  \n",
       "0                                           Gow 1997  11942819  \n",
       "1                                           Gow 1997  12301336  \n",
       "2                                                NaN  12675460  \n",
       "3  FRUD was able to take over large areas of the ...    606844  \n",
       "4  DJIBOUTI Human Rights Practices, 1992: Departm...    615054  \n",
       "\n",
       "[5 rows x 143 columns]"
      ]
     },
     "execution_count": 4,
     "metadata": {},
     "output_type": "execute_result"
    }
   ],
   "source": [
    "data.head()"
   ]
  },
  {
   "cell_type": "markdown",
   "metadata": {},
   "source": [
    "#### filtering dataset\n",
    "create dataframe in which each protest has following features:\n",
    "- `violence` - was the protest violent or non violent\n",
    "- `success` - was the protests a success or a failure\n",
    "- `above_3%` - participants were greater or less than 3% of population"
   ]
  },
  {
   "cell_type": "code",
   "execution_count": 5,
   "metadata": {},
   "outputs": [],
   "source": [
    "# filtering df\n",
    "camp = data.copy() # *call it 'data2' to keep original dataframe\n",
    "camp = camp[camp.reliability != 1] # delete non reliable rows"
   ]
  },
  {
   "cell_type": "code",
   "execution_count": 6,
   "metadata": {},
   "outputs": [],
   "source": [
    "# most participants for each protest \n",
    "part = camp.sort_values(by=['total_part'],ascending=False)\n",
    "part = part[part.total_part >= 0]\n",
    "part = part.drop_duplicates(subset=['camp_name'], keep='first')\n",
    "part = part.loc[:,['camp_name','total_part','Count','prim_meth']]\n",
    "\n",
    "# filter each campaigns multiple rows to find if one of them was successful\n",
    "success = camp.sort_values(by=['success'],ascending=False)\n",
    "success = success[success.success >= 0]\n",
    "success = success.drop_duplicates(subset=['camp_name'], keep='first')\n",
    "success = success.loc[:,['camp_name','success']]\n",
    "\n",
    "# sorts protests by year and keeps only 'name','year' features\n",
    "camp = camp.sort_values(by=['year'],ascending=True)\n",
    "camp = camp.drop_duplicates(subset=['camp_name'], keep='first')\n",
    "camp = camp.loc[:,['camp_name','year']]\n",
    "\n",
    "# merge dataframes to get final dataset\n",
    "camp = pd.merge(camp, part)\n",
    "camp = pd.merge(camp, success)\n",
    "\n",
    "# 0=>1 & 1=>0, to create bool 'violence' feature\n",
    "camp['prim_meth'] = camp['prim_meth'].map({0 : True, # prim_meth==0 => violent\n",
    "                                           1 : False}) # prim_meth==1 => non violent\n",
    "# bool success\n",
    "camp['success'] = camp['success'].map({0 : False, # 0 => False\n",
    "                                       1 : True}) # 1 => True\n",
    "\n",
    "camp = camp.rename(columns={\"prim_meth\": \"violence\",\"total_part\":\"participants\",\"Count\":\"total_pop\"}) # rename"
   ]
  },
  {
   "cell_type": "code",
   "execution_count": 7,
   "metadata": {},
   "outputs": [
    {
     "data": {
      "text/html": [
       "<div>\n",
       "<style scoped>\n",
       "    .dataframe tbody tr th:only-of-type {\n",
       "        vertical-align: middle;\n",
       "    }\n",
       "\n",
       "    .dataframe tbody tr th {\n",
       "        vertical-align: top;\n",
       "    }\n",
       "\n",
       "    .dataframe thead th {\n",
       "        text-align: right;\n",
       "    }\n",
       "</style>\n",
       "<table border=\"1\" class=\"dataframe\">\n",
       "  <thead>\n",
       "    <tr style=\"text-align: right;\">\n",
       "      <th></th>\n",
       "      <th>camp_name</th>\n",
       "      <th>year</th>\n",
       "      <th>participants</th>\n",
       "      <th>total_pop</th>\n",
       "      <th>violence</th>\n",
       "      <th>success</th>\n",
       "    </tr>\n",
       "  </thead>\n",
       "  <tbody>\n",
       "    <tr>\n",
       "      <th>0</th>\n",
       "      <td>SWAPO</td>\n",
       "      <td>1960</td>\n",
       "      <td>9999</td>\n",
       "      <td>971121</td>\n",
       "      <td>True</td>\n",
       "      <td>True</td>\n",
       "    </tr>\n",
       "    <tr>\n",
       "      <th>1</th>\n",
       "      <td>Cameroon anti-Ahidjo government movement</td>\n",
       "      <td>1960</td>\n",
       "      <td>3000</td>\n",
       "      <td>5176918</td>\n",
       "      <td>True</td>\n",
       "      <td>False</td>\n",
       "    </tr>\n",
       "    <tr>\n",
       "      <th>2</th>\n",
       "      <td>Khmer Rouge</td>\n",
       "      <td>1960</td>\n",
       "      <td>205001</td>\n",
       "      <td>7449238</td>\n",
       "      <td>True</td>\n",
       "      <td>True</td>\n",
       "    </tr>\n",
       "  </tbody>\n",
       "</table>\n",
       "</div>"
      ],
      "text/plain": [
       "                                  camp_name  year  participants  total_pop  \\\n",
       "0                                     SWAPO  1960          9999     971121   \n",
       "1  Cameroon anti-Ahidjo government movement  1960          3000    5176918   \n",
       "2                               Khmer Rouge  1960        205001    7449238   \n",
       "\n",
       "   violence  success  \n",
       "0      True     True  \n",
       "1      True    False  \n",
       "2      True     True  "
      ]
     },
     "execution_count": 7,
     "metadata": {},
     "output_type": "execute_result"
    }
   ],
   "source": [
    "camp.iloc[:3]"
   ]
  },
  {
   "cell_type": "markdown",
   "metadata": {},
   "source": [
    "#### Add `above_3%` bool feature"
   ]
  },
  {
   "cell_type": "code",
   "execution_count": 8,
   "metadata": {},
   "outputs": [],
   "source": [
    "# calculate perc_of_total feature\n",
    "perc_of_total = []\n",
    "perc = 0\n",
    "# (part/total)*100\n",
    "for x in range(len(camp)): \n",
    "    perc = (camp.participants.iloc[x] / camp.total_pop.iloc[x])*100\n",
    "    perc_of_total.append(perc) # adding each value to its camp_name index\n",
    "\n",
    "camp['perc_of_total'] = perc_of_total # adding new feature\n",
    "\n",
    "camp['above_3%'] = np.where(camp['perc_of_total'] >= 3, # create new feature based on: perc_of_total >= 3\n",
    "                            True, # greater than 3%\n",
    "                            False) # less than 3%\n",
    "camp['perc_of_total'] = camp['perc_of_total'].apply(lambda x: float(\"{0:.5f}\".format(x))) # value becomes float .5"
   ]
  },
  {
   "cell_type": "code",
   "execution_count": 9,
   "metadata": {},
   "outputs": [
    {
     "data": {
      "text/html": [
       "<div>\n",
       "<style scoped>\n",
       "    .dataframe tbody tr th:only-of-type {\n",
       "        vertical-align: middle;\n",
       "    }\n",
       "\n",
       "    .dataframe tbody tr th {\n",
       "        vertical-align: top;\n",
       "    }\n",
       "\n",
       "    .dataframe thead th {\n",
       "        text-align: right;\n",
       "    }\n",
       "</style>\n",
       "<table border=\"1\" class=\"dataframe\">\n",
       "  <thead>\n",
       "    <tr style=\"text-align: right;\">\n",
       "      <th></th>\n",
       "      <th>camp_name</th>\n",
       "      <th>year</th>\n",
       "      <th>participants</th>\n",
       "      <th>total_pop</th>\n",
       "      <th>violence</th>\n",
       "      <th>success</th>\n",
       "      <th>perc_of_total</th>\n",
       "      <th>above_3%</th>\n",
       "    </tr>\n",
       "  </thead>\n",
       "  <tbody>\n",
       "    <tr>\n",
       "      <th>0</th>\n",
       "      <td>SWAPO</td>\n",
       "      <td>1960</td>\n",
       "      <td>9999</td>\n",
       "      <td>971121</td>\n",
       "      <td>True</td>\n",
       "      <td>True</td>\n",
       "      <td>1.02963</td>\n",
       "      <td>False</td>\n",
       "    </tr>\n",
       "    <tr>\n",
       "      <th>1</th>\n",
       "      <td>Cameroon anti-Ahidjo government movement</td>\n",
       "      <td>1960</td>\n",
       "      <td>3000</td>\n",
       "      <td>5176918</td>\n",
       "      <td>True</td>\n",
       "      <td>False</td>\n",
       "      <td>0.05795</td>\n",
       "      <td>False</td>\n",
       "    </tr>\n",
       "    <tr>\n",
       "      <th>2</th>\n",
       "      <td>Khmer Rouge</td>\n",
       "      <td>1960</td>\n",
       "      <td>205001</td>\n",
       "      <td>7449238</td>\n",
       "      <td>True</td>\n",
       "      <td>True</td>\n",
       "      <td>2.75197</td>\n",
       "      <td>False</td>\n",
       "    </tr>\n",
       "    <tr>\n",
       "      <th>3</th>\n",
       "      <td>Algerian Revolt/ National Liberation Front</td>\n",
       "      <td>1960</td>\n",
       "      <td>37600</td>\n",
       "      <td>11057863</td>\n",
       "      <td>True</td>\n",
       "      <td>True</td>\n",
       "      <td>0.34003</td>\n",
       "      <td>False</td>\n",
       "    </tr>\n",
       "    <tr>\n",
       "      <th>4</th>\n",
       "      <td>Zambia Anti-occupation</td>\n",
       "      <td>1960</td>\n",
       "      <td>1000000</td>\n",
       "      <td>3360104</td>\n",
       "      <td>False</td>\n",
       "      <td>True</td>\n",
       "      <td>29.76098</td>\n",
       "      <td>True</td>\n",
       "    </tr>\n",
       "    <tr>\n",
       "      <th>5</th>\n",
       "      <td>South Africa First Defiance Campaign</td>\n",
       "      <td>1960</td>\n",
       "      <td>70000</td>\n",
       "      <td>17099840</td>\n",
       "      <td>False</td>\n",
       "      <td>False</td>\n",
       "      <td>0.40936</td>\n",
       "      <td>False</td>\n",
       "    </tr>\n",
       "    <tr>\n",
       "      <th>6</th>\n",
       "      <td>Naga Rebellion</td>\n",
       "      <td>1960</td>\n",
       "      <td>4500</td>\n",
       "      <td>945601831</td>\n",
       "      <td>True</td>\n",
       "      <td>False</td>\n",
       "      <td>0.00048</td>\n",
       "      <td>False</td>\n",
       "    </tr>\n",
       "    <tr>\n",
       "      <th>7</th>\n",
       "      <td>Indonesian leftists / Anti Sukarno</td>\n",
       "      <td>1960</td>\n",
       "      <td>10000</td>\n",
       "      <td>87751068</td>\n",
       "      <td>True</td>\n",
       "      <td>False</td>\n",
       "      <td>0.01140</td>\n",
       "      <td>False</td>\n",
       "    </tr>\n",
       "    <tr>\n",
       "      <th>8</th>\n",
       "      <td>Malayan Emergency</td>\n",
       "      <td>1960</td>\n",
       "      <td>350</td>\n",
       "      <td>8156347</td>\n",
       "      <td>True</td>\n",
       "      <td>False</td>\n",
       "      <td>0.00429</td>\n",
       "      <td>False</td>\n",
       "    </tr>\n",
       "    <tr>\n",
       "      <th>9</th>\n",
       "      <td>Darul Islam</td>\n",
       "      <td>1960</td>\n",
       "      <td>4000</td>\n",
       "      <td>87751068</td>\n",
       "      <td>True</td>\n",
       "      <td>False</td>\n",
       "      <td>0.00456</td>\n",
       "      <td>False</td>\n",
       "    </tr>\n",
       "  </tbody>\n",
       "</table>\n",
       "</div>"
      ],
      "text/plain": [
       "                                    camp_name  year  participants  total_pop  \\\n",
       "0                                       SWAPO  1960          9999     971121   \n",
       "1    Cameroon anti-Ahidjo government movement  1960          3000    5176918   \n",
       "2                                 Khmer Rouge  1960        205001    7449238   \n",
       "3  Algerian Revolt/ National Liberation Front  1960         37600   11057863   \n",
       "4                      Zambia Anti-occupation  1960       1000000    3360104   \n",
       "5        South Africa First Defiance Campaign  1960         70000   17099840   \n",
       "6                              Naga Rebellion  1960          4500  945601831   \n",
       "7          Indonesian leftists / Anti Sukarno  1960         10000   87751068   \n",
       "8                           Malayan Emergency  1960           350    8156347   \n",
       "9                                 Darul Islam  1960          4000   87751068   \n",
       "\n",
       "   violence  success  perc_of_total  above_3%  \n",
       "0      True     True        1.02963     False  \n",
       "1      True    False        0.05795     False  \n",
       "2      True     True        2.75197     False  \n",
       "3      True     True        0.34003     False  \n",
       "4     False     True       29.76098      True  \n",
       "5     False    False        0.40936     False  \n",
       "6      True    False        0.00048     False  \n",
       "7      True    False        0.01140     False  \n",
       "8      True    False        0.00429     False  \n",
       "9      True    False        0.00456     False  "
      ]
     },
     "execution_count": 9,
     "metadata": {},
     "output_type": "execute_result"
    }
   ],
   "source": [
    "camp[:10] # 10 protests"
   ]
  },
  {
   "cell_type": "markdown",
   "metadata": {},
   "source": [
    "#### Create a model which predicts successful protests based on their use of violence and % of total population\n",
    "\n",
    "Using logistic regression, create a model which will get `success` as a label and 2 independent variables:\n",
    "- `above 3%` - protest size above 3% of population = 1, else = 0\n",
    "- `violence` - violent protest = 1, non violent protest = 0 \n",
    "\n",
    "to see if model can predict a successful protest based on those 2 variables.\n",
    "\n",
    "\n",
    "**X** = violence & above 3% features.  \n",
    "**y** = the success labels."
   ]
  },
  {
   "cell_type": "code",
   "execution_count": 10,
   "metadata": {},
   "outputs": [],
   "source": [
    "# train\n",
    "X = camp.loc[:,['violence','above_3%']] # independent variables\n",
    "y = camp['success'] # labels, what is it going to predict"
   ]
  },
  {
   "cell_type": "code",
   "execution_count": 11,
   "metadata": {},
   "outputs": [
    {
     "data": {
      "text/plain": [
       "LogisticRegression(C=1.0, class_weight=None, dual=False, fit_intercept=True,\n",
       "                   intercept_scaling=1, l1_ratio=None, max_iter=100,\n",
       "                   multi_class='auto', n_jobs=None, penalty='l2',\n",
       "                   random_state=None, solver='lbfgs', tol=0.0001, verbose=0,\n",
       "                   warm_start=False)"
      ]
     },
     "execution_count": 11,
     "metadata": {},
     "output_type": "execute_result"
    }
   ],
   "source": [
    "# training and testing subsets\n",
    "\n",
    "X_train, X_test, y_train, y_test = train_test_split(X,y, test_size=0.4,random_state=100)\n",
    "\n",
    "logmodel=LogisticRegression()\n",
    "\n",
    "logmodel.fit(X_train,y_train) # train the model"
   ]
  },
  {
   "cell_type": "markdown",
   "metadata": {},
   "source": [
    "#### Predictions\n",
    "Show results in a **conffusion matrix**"
   ]
  },
  {
   "cell_type": "code",
   "execution_count": 13,
   "metadata": {},
   "outputs": [
    {
     "data": {
      "image/png": "[encoded data removed]",
      "text/plain": [
       "<Figure size 432x288 with 1 Axes>"
      ]
     },
     "metadata": {},
     "output_type": "display_data"
    }
   ],
   "source": [
    "flatui = [\"white\"]\n",
    "my_cmap = ListedColormap(sns.color_palette(flatui).as_hex()) # custom color map for heatmap, contains: 'white'\n",
    "\n",
    "# predictions\n",
    "predictions = logmodel.predict(X_test) # predict\n",
    "\n",
    "cm = confusion_matrix(y_test,predictions) # craetes confusion matrix\n",
    "\n",
    "# show confusion matrix heapmap, just for visualization\n",
    "sns.heatmap(cm, annot=True, # show ammount\n",
    "            cmap=my_cmap, # colormap = custom\n",
    "            cbar=False, # no colorbar\n",
    "            linewidths=0.1, # lines between squares\n",
    "            linecolor='black', # black lines\n",
    "            label='big') # bigger font\n",
    "\n",
    "plt.xlabel('predicted')\n",
    "plt.ylabel('true')\n",
    "sns.set(font_scale=2)\n",
    "plt.yticks([0.5,1.5],['AY','AN'])\n",
    "plt.xticks([0.5,1.5],['PY','PN'])\n",
    "plt.title('Confusion Matrix')\n",
    "plt.show()"
   ]
  },
  {
   "cell_type": "markdown",
   "metadata": {},
   "source": [
    "the model successfuly predicted alot of successful protests(45/59), and most of the failed protests(28/38)  \n",
    "\n",
    "---\n",
    "\n",
    "$$ Precision = \\frac{TP}{TP+FP} = \\frac{45}{45+10}  = 81\\% $$\n",
    "\n",
    "$$ Recall = \\frac{TP}{TP+FN} = \\frac{45}{45+14}  = 76\\% $$\n",
    "\n",
    "Precision is higher, the main reason is to find successful protests\n",
    "\n",
    "---"
   ]
  },
  {
   "cell_type": "markdown",
   "metadata": {},
   "source": [
    "#### Check model accuracy score to see its performance"
   ]
  },
  {
   "cell_type": "code",
   "execution_count": 14,
   "metadata": {},
   "outputs": [
    {
     "data": {
      "text/plain": [
       "0.7525773195876289"
      ]
     },
     "execution_count": 14,
     "metadata": {},
     "output_type": "execute_result"
    }
   ],
   "source": [
    "accuracy_score(y_test,predictions)"
   ]
  },
  {
   "cell_type": "markdown",
   "metadata": {},
   "source": [
    "$$ Accuracy = \\frac{TP+TN}{TP+TN+FP+FN} = \\frac{45+28}{45+28+10+14}  = 75\\% $$\n",
    "\n",
    "---"
   ]
  },
  {
   "cell_type": "markdown",
   "metadata": {},
   "source": [
    "#### Check protests probability\n",
    "5 protests from the X test and their probability predicted by the model:"
   ]
  },
  {
   "cell_type": "code",
   "execution_count": 15,
   "metadata": {},
   "outputs": [
    {
     "data": {
      "text/html": [
       "<div>\n",
       "<style scoped>\n",
       "    .dataframe tbody tr th:only-of-type {\n",
       "        vertical-align: middle;\n",
       "    }\n",
       "\n",
       "    .dataframe tbody tr th {\n",
       "        vertical-align: top;\n",
       "    }\n",
       "\n",
       "    .dataframe thead th {\n",
       "        text-align: right;\n",
       "    }\n",
       "</style>\n",
       "<table border=\"1\" class=\"dataframe\">\n",
       "  <thead>\n",
       "    <tr style=\"text-align: right;\">\n",
       "      <th></th>\n",
       "      <th>violence</th>\n",
       "      <th>above_3%</th>\n",
       "    </tr>\n",
       "  </thead>\n",
       "  <tbody>\n",
       "    <tr>\n",
       "      <th>111</th>\n",
       "      <td>False</td>\n",
       "      <td>True</td>\n",
       "    </tr>\n",
       "    <tr>\n",
       "      <th>150</th>\n",
       "      <td>True</td>\n",
       "      <td>False</td>\n",
       "    </tr>\n",
       "    <tr>\n",
       "      <th>188</th>\n",
       "      <td>True</td>\n",
       "      <td>False</td>\n",
       "    </tr>\n",
       "    <tr>\n",
       "      <th>134</th>\n",
       "      <td>False</td>\n",
       "      <td>False</td>\n",
       "    </tr>\n",
       "    <tr>\n",
       "      <th>202</th>\n",
       "      <td>False</td>\n",
       "      <td>False</td>\n",
       "    </tr>\n",
       "  </tbody>\n",
       "</table>\n",
       "</div>"
      ],
      "text/plain": [
       "     violence  above_3%\n",
       "111     False      True\n",
       "150      True     False\n",
       "188      True     False\n",
       "134     False     False\n",
       "202     False     False"
      ]
     },
     "execution_count": 15,
     "metadata": {},
     "output_type": "execute_result"
    }
   ],
   "source": [
    "X_test.iloc[:5]"
   ]
  },
  {
   "cell_type": "code",
   "execution_count": 16,
   "metadata": {},
   "outputs": [
    {
     "data": {
      "text/plain": [
       "array([[0.33366217, 0.66633783],\n",
       "       [0.71130207, 0.28869793],\n",
       "       [0.71130207, 0.28869793],\n",
       "       [0.49539749, 0.50460251],\n",
       "       [0.49539749, 0.50460251]])"
      ]
     },
     "execution_count": 16,
     "metadata": {},
     "output_type": "execute_result"
    }
   ],
   "source": [
    "logmodel.predict_proba(X_test)[:5]"
   ]
  },
  {
   "cell_type": "markdown",
   "metadata": {},
   "source": [
    "Left column is fail predictions, right column is success predicitons\n",
    "\n",
    "---"
   ]
  },
  {
   "cell_type": "markdown",
   "metadata": {},
   "source": [
    "Although the exact result for the question what makes a successful protest will depend on many factors,  \n",
    "this model was not bad at predicting successful & failed protests."
   ]
  }
 ],
 "metadata": {
  "kernelspec": {
   "display_name": "Python 3",
   "language": "python",
   "name": "python3"
  },
  "language_info": {
   "codemirror_mode": {
    "name": "ipython",
    "version": 3
   },
   "file_extension": ".py",
   "mimetype": "text/x-python",
   "name": "python",
   "nbconvert_exporter": "python",
   "pygments_lexer": "ipython3",
   "version": "3.7.6"
  }
 },
 "nbformat": 4,
 "nbformat_minor": 4
}
